{
 "cells": [
  {
   "cell_type": "code",
   "execution_count": 321,
   "metadata": {
    "collapsed": true
   },
   "outputs": [],
   "source": [
    "import pandas as pd\n",
    "import matplotlib.pyplot as plt\n",
    "import math\n",
    "import numpy as np\n",
    "\n",
    "%matplotlib inline"
   ]
  },
  {
   "cell_type": "markdown",
   "metadata": {},
   "source": [
    "**DEFININDO A BASE DE DADOS E FAZENDO UMA PRÉ-SELEÇÃO**"
   ]
  },
  {
   "cell_type": "code",
   "execution_count": 322,
   "metadata": {
    "collapsed": false
   },
   "outputs": [],
   "source": [
    "# definindo a variável principal e mudando o nome das colunas\n",
    "dados = pd.read_table(\"pes2013P1.csv\", sep = \",\")"
   ]
  },
  {
   "cell_type": "code",
   "execution_count": 323,
   "metadata": {
    "collapsed": false
   },
   "outputs": [],
   "source": [
    "# fazendo a seleção geral\n",
    "dados = dados[(dados.V9042 == 2)&(dados.V9005 == 1)&(dados.V0402 == 1)&(dados.V8005 > 15)&(dados.V4718 < 99999999999)] # + de 15 anos, carteira ass, pessoa de ref, 1 emprego"
   ]
  },
  {
   "cell_type": "markdown",
   "metadata": {},
   "source": [
    "**AJUSTANDO A BASE DE DADOS PARA FAZER AS ANÁLISES** "
   ]
  },
  {
   "cell_type": "code",
   "execution_count": 324,
   "metadata": {
    "collapsed": false
   },
   "outputs": [],
   "source": [
    "# renomeando as colunas da tabela geral\n",
    "colunas = [\"UF\", \"SEXO\", \"IDADE\", \"COND_FAM\", \"COR\", \"TRABALHOU_REF_WEEK\", \"N_TRAB_REF_WEEK\", \"POSIÇÃO_REF_WEEK\", \"SETOR_REF_WEEK\", \"CARTEIRA_ASS_REF_WEKK\", \"ANOS_DE_TRAB_REF_DATE\", \"ANOS_DE_ESTUDO\", \"HORAS_DE_TRAB_10PLUS_REF_WEEK\", \"INSTRUC_PLUS_ALCANÇADA\", \"REND_MENSAL_TRAB_PRINC_10PLUS\"]\n",
    "\n",
    "columns = {}\n",
    "i = 0\n",
    "for c in dados.columns:\n",
    "    \n",
    "    columns[c] = colunas[i]\n",
    "    i+=1\n",
    "    \n",
    "dados.rename(columns=columns, inplace=True)"
   ]
  },
  {
   "cell_type": "code",
   "execution_count": 325,
   "metadata": {
    "collapsed": true
   },
   "outputs": [],
   "source": [
    "regioes = [\"Sul\", \"Norte\", \"Nordeste\", \"Sudeste\", \"Centro-Oeste\"]"
   ]
  },
  {
   "cell_type": "code",
   "execution_count": 326,
   "metadata": {
    "collapsed": true
   },
   "outputs": [],
   "source": [
    "# criando a coluna REGIAO\n",
    "dados[\"REGIAO\"] = \"Sul\"\n",
    "condition1 = dados.UF <= 17\n",
    "condition2 = (dados.UF > 17) & (dados.UF <= 29)\n",
    "condition3 = (dados.UF > 29) & (dados.UF <= 35)\n",
    "condition4 = dados.UF > 43\n",
    "\n",
    "dados.loc[condition1, \"REGIAO\"] = \"Norte\"\n",
    "dados.loc[condition2, \"REGIAO\"] = \"Nordeste\"\n",
    "dados.loc[condition3, \"REGIAO\"] = \"Sudeste\"\n",
    "dados.loc[condition4, \"REGIAO\"] = \"Centro-Oeste\""
   ]
  },
  {
   "cell_type": "code",
   "execution_count": 327,
   "metadata": {
    "collapsed": false
   },
   "outputs": [],
   "source": [
    "# mudando a notação dos valores da variável \"COR\"\n",
    "racas = [\"Indígena\", \"Branca\", \"Negra\", \"Amarela\", \"Parda\"]\n",
    "\n",
    "dados.COR = dados.COR.astype(\"category\")\n",
    "dados.COR.cat.categories = racas"
   ]
  },
  {
   "cell_type": "code",
   "execution_count": 328,
   "metadata": {
    "collapsed": true
   },
   "outputs": [],
   "source": [
    "# mudando a notação dos valores da variável \"SEXO\"\n",
    "sexos = [\"Masculino\", \"Feminino\"]\n",
    "\n",
    "dados.SEXO = dados.SEXO.astype(\"category\")\n",
    "dados.SEXO.cat.categories = sexos"
   ]
  },
  {
   "cell_type": "code",
   "execution_count": 329,
   "metadata": {
    "collapsed": true
   },
   "outputs": [],
   "source": [
    "# mudando a notação do valor da variável \"HORAS_DE_TRAB_10PLUS_REF_WEEK\" e recriando os homens e mulheres\n",
    "horas = [\"0-14\", \"15-39\", \"40-44\", \"45-48\", \"49+\"]\n",
    "\n",
    "dados.HORAS_DE_TRAB_10PLUS_REF_WEEK = dados.HORAS_DE_TRAB_10PLUS_REF_WEEK.astype(\"category\")\n",
    "dados.HORAS_DE_TRAB_10PLUS_REF_WEEK.cat.categories = horas"
   ]
  },
  {
   "cell_type": "code",
   "execution_count": 330,
   "metadata": {
    "collapsed": false
   },
   "outputs": [],
   "source": [
    "# separando homens e mulheres\n",
    "homens = dados[dados.SEXO == \"Masculino\"]\n",
    "mulheres = dados[dados.SEXO == \"Feminino\"]"
   ]
  },
  {
   "cell_type": "code",
   "execution_count": 331,
   "metadata": {
    "collapsed": true
   },
   "outputs": [],
   "source": [
    "# retirando os outliers que consideramos despresíveis\n",
    "\n",
    "dados = dados[(dados.REND_MENSAL_TRAB_PRINC_10PLUS != dados.REND_MENSAL_TRAB_PRINC_10PLUS.max()) & (dados.REND_MENSAL_TRAB_PRINC_10PLUS != dados.REND_MENSAL_TRAB_PRINC_10PLUS.min())] \n",
    "homens = homens[(homens.REND_MENSAL_TRAB_PRINC_10PLUS != homens.REND_MENSAL_TRAB_PRINC_10PLUS.max()) & (homens.REND_MENSAL_TRAB_PRINC_10PLUS != homens.REND_MENSAL_TRAB_PRINC_10PLUS.min())]"
   ]
  },
  {
   "cell_type": "markdown",
   "metadata": {},
   "source": [
    "ANÁLISE 1 \n",
    "=====\n",
    "\n",
    "**PARÂMETRO A SER ANALISADO:** Média salarial\n",
    "\n",
    "**CRITÉRIO DE SELEÇÃO:** Raça"
   ]
  },
  {
   "cell_type": "code",
   "execution_count": 332,
   "metadata": {
    "collapsed": true
   },
   "outputs": [],
   "source": [
    "# obtendo o rend médio de cada um dos genêros de cada uma das raças\n",
    "\n",
    "# INDEX: [Indígena, Branca, Negra, Amarela, Parda]\n",
    "\n",
    "rendMedioHomens = []\n",
    "rendMedioMulheres = []\n",
    "\n",
    "for r in racas:\n",
    "    \n",
    "    homem = homens[homens.COR == r]\n",
    "    mulher = mulheres[mulheres.COR == r]\n",
    "    \n",
    "    rendMedioHomem = homem.REND_MENSAL_TRAB_PRINC_10PLUS.mean()\n",
    "    rendMedioMulher = mulher.REND_MENSAL_TRAB_PRINC_10PLUS.mean()\n",
    "    \n",
    "    rendMedioHomens.append(rendMedioHomem)\n",
    "    rendMedioMulheres.append(rendMedioMulher)"
   ]
  },
  {
   "cell_type": "code",
   "execution_count": 333,
   "metadata": {
    "collapsed": true
   },
   "outputs": [],
   "source": [
    "# obtendo o rend médio de cada um dos genêros por raça\n",
    "\n",
    "# INDEX: [[IndígenaH, IndígenaM], [BrancaH, BrancaM], [NegraH, NegraM], [AmarelaH, AmarelaM], [PardaH, PardaM]]\n",
    "\n",
    "homensXMulheres = []\n",
    "\n",
    "for i in range(len(rendMedioHomens)):\n",
    "    \n",
    "    homemXMulher = [rendMedioHomens[i],rendMedioMulheres[i]]\n",
    "    \n",
    "    homensXMulheres.append(homemXMulher)"
   ]
  },
  {
   "cell_type": "code",
   "execution_count": 334,
   "metadata": {
    "collapsed": false
   },
   "outputs": [
    {
     "data": {
      "text/plain": [
       "<matplotlib.text.Text at 0x10e99ba20>"
      ]
     },
     "execution_count": 334,
     "metadata": {},
     "output_type": "execute_result"
    },
    {
     "data": {
      "image/png": "[encoded data removed]",
      "text/plain": [
       "<matplotlib.figure.Figure at 0x10fffa048>"
      ]
     },
     "metadata": {},
     "output_type": "display_data"
    }
   ],
   "source": [
    "# plotando o gráfico conclusivo da ANÁLISE 1\n",
    "dataForGraph1 = pd.DataFrame(homensXMulheres, columns=[\"Homem\", \"Mulher\"], index=racas)\n",
    "plot1 = dataForGraph1.plot(kind='bar')\n",
    "plot1.set_ylabel(\"Renda Média Mensal (R$)\")\n",
    "plot1.set_xlabel(\"Raça\")"
   ]
  },
  {
   "cell_type": "markdown",
   "metadata": {},
   "source": [
    "#ANÁLISE 2\n",
    "\n",
    "**PARÂMETRO A SER ANALISADO:** Média salarial\n",
    "\n",
    "**CRITÉRIO DE SELEÇÃO:** Região em que reside"
   ]
  },
  {
   "cell_type": "code",
   "execution_count": 335,
   "metadata": {
    "collapsed": false
   },
   "outputs": [],
   "source": [
    "# obtendo o rend médio de cada um dos genêros de cada uma das regiões\n",
    "\n",
    "# INDEX: [Sul, Norte, Nordeste, Sudeste, Centro-Oeste]\n",
    "\n",
    "rendMedioHomensReg = []\n",
    "rendMedioMulheresReg = []\n",
    "\n",
    "for r in regioes:\n",
    "    \n",
    "    homem = homens[homens.REGIAO == r]\n",
    "    mulher = mulheres[mulheres.REGIAO == r]\n",
    "    \n",
    "    rendMedioHomem = homem.REND_MENSAL_TRAB_PRINC_10PLUS.mean()\n",
    "    rendMedioMulher = mulher.REND_MENSAL_TRAB_PRINC_10PLUS.mean()\n",
    "    \n",
    "    rendMedioHomensReg.append(rendMedioHomem)\n",
    "    rendMedioMulheresReg.append(rendMedioMulher)"
   ]
  },
  {
   "cell_type": "code",
   "execution_count": 336,
   "metadata": {
    "collapsed": true
   },
   "outputs": [],
   "source": [
    "# obtendo o rend médio de cada um dos gêneros por região\n",
    "\n",
    "# INDEX: [[SulH, SulM], [NorteH, NorteM], [SudesteH, SudesteM], [Centro-OesteH, Centro-OesteM]]\n",
    "\n",
    "homensXMulheresReg = []\n",
    "\n",
    "for i in range(len(rendMedioHomensReg)):\n",
    "    \n",
    "    homemXMulher = [rendMedioHomensReg[i],rendMedioMulheresReg[i]]\n",
    "    \n",
    "    homensXMulheresReg.append(homemXMulher)"
   ]
  },
  {
   "cell_type": "code",
   "execution_count": 337,
   "metadata": {
    "collapsed": false
   },
   "outputs": [
    {
     "data": {
      "text/plain": [
       "<matplotlib.text.Text at 0x10fff9208>"
      ]
     },
     "execution_count": 337,
     "metadata": {},
     "output_type": "execute_result"
    },
    {
     "data": {
      "image/png": "[encoded data removed]",
      "text/plain": [
       "<matplotlib.figure.Figure at 0x10e1e4dd8>"
      ]
     },
     "metadata": {},
     "output_type": "display_data"
    }
   ],
   "source": [
    "# plotando o gráfico conclusivo da ANÁLISE 1\n",
    "dataForGraph2 = pd.DataFrame(homensXMulheresReg, columns=[\"Homem\", \"Mulher\"], index=regioes)\n",
    "plot2 = dataForGraph2.plot(kind='bar')\n",
    "plot2.set_ylabel(\"Renda Média Mensal (R$)\")\n",
    "plot2.set_xlabel(\"Região\")"
   ]
  },
  {
   "cell_type": "markdown",
   "metadata": {},
   "source": [
    "#ANÁLISE 3\n",
    "\n",
    "**PARÂMETRO A SER ANALISADO:** Média Salarial\n",
    "\n",
    "**CRITÉRIO DE SELEÇÃO:** Carga horária de trabalho semanal"
   ]
  },
  {
   "cell_type": "code",
   "execution_count": 338,
   "metadata": {
    "collapsed": false
   },
   "outputs": [],
   "source": [
    "# obtendo a renda média mensal de acordo com a carga horária semanal de cada sexo\n",
    "\n",
    "# INDEX: horas\n",
    "\n",
    "rendMedioHorasH = []\n",
    "rendMedioHorasM = []\n",
    "for i in horas:\n",
    "    \n",
    "    meanH = homens[homens.HORAS_DE_TRAB_10PLUS_REF_WEEK == i].REND_MENSAL_TRAB_PRINC_10PLUS.mean()\n",
    "    meanM = mulheres[mulheres.HORAS_DE_TRAB_10PLUS_REF_WEEK == i].REND_MENSAL_TRAB_PRINC_10PLUS.mean()\n",
    "    \n",
    "    rendMedioHorasH.append(meanH)\n",
    "    rendMedioHorasM.append(meanM)"
   ]
  },
  {
   "cell_type": "code",
   "execution_count": 339,
   "metadata": {
    "collapsed": true
   },
   "outputs": [],
   "source": [
    "# obtendo a renda média mensal de acordo com a carga horária semanal \n",
    "\n",
    "# INDEX: [[0-14H, 0-14M], [14-39H, 14-39M], [40-44H, 40-44M], [45-48H, 45-48M], [49+H, 49+M]]\n",
    "\n",
    "homensXMulheresHoras = []\n",
    "\n",
    "for i in range(len(rendMedioHorasH)):\n",
    "    \n",
    "    homemXMulher = [rendMedioHorasH[i],rendMedioHorasM[i]]\n",
    "    \n",
    "    homensXMulheresHoras.append(homemXMulher)"
   ]
  },
  {
   "cell_type": "code",
   "execution_count": 340,
   "metadata": {
    "collapsed": false
   },
   "outputs": [
    {
     "data": {
      "text/plain": [
       "<matplotlib.text.Text at 0x10ffbe2b0>"
      ]
     },
     "execution_count": 340,
     "metadata": {},
     "output_type": "execute_result"
    },
    {
     "data": {
      "image/png": "[encoded data removed]",
      "text/plain": [
       "<matplotlib.figure.Figure at 0x110889b70>"
      ]
     },
     "metadata": {},
     "output_type": "display_data"
    }
   ],
   "source": [
    "dataForGraph3 = pd.DataFrame(homensXMulheresHoras, columns=[\"Homem\", \"Mulher\"], index=horas)\n",
    "plot3 = dataForGraph3.plot(kind='bar')\n",
    "plot3.set_ylabel(\"Renda Média Mensal (R$)\")\n",
    "plot3.set_xlabel(\"Horas de Trabalho / Semana\")"
   ]
  },
  {
   "cell_type": "markdown",
   "metadata": {},
   "source": [
    "#ANÁLISE 4\n",
    "\n",
    "**PARÂMETRO A SER ANALISADO:** Número de indivíduos\n",
    "\n",
    "**CRITÉRIO DE SELEÇÃO:** Nível do rendimento mensal ou \"Faixas Salariais\""
   ]
  },
  {
   "cell_type": "code",
   "execution_count": 341,
   "metadata": {
    "collapsed": false
   },
   "outputs": [],
   "source": [
    "# separando as rendas por quartis\n",
    "\n",
    "sortedRenda = sorted(dados.REND_MENSAL_TRAB_PRINC_10PLUS)\n",
    "\n",
    "# INDEX: [0 - 30902]\n",
    "\n",
    "q1 = (sortedRenda[7725]+sortedRenda[7726])/2\n",
    "q2 = sortedRenda[15451] # ou dados.REND_MENSAL_TRAB_PRINC_10PLUS.median()\n",
    "q3 = (sortedRenda[23176]+sortedRenda[23177])/2"
   ]
  },
  {
   "cell_type": "code",
   "execution_count": 342,
   "metadata": {
    "collapsed": false
   },
   "outputs": [],
   "source": [
    "# dividindo as rendas em quatro grandes grupos:\n",
    "\n",
    "# g1 = 25% maiores salários\n",
    "# g2 = 50% maiores salários mas não os 25% maiores\n",
    "# g3 = 50% menores salários mas não os 25% menores\n",
    "# g4 = 25% menores salários\n",
    "\n",
    "for s in sexos:\n",
    "\n",
    "    if s == \"Masculino\":\n",
    "    \n",
    "        g1H = homens[homens.REND_MENSAL_TRAB_PRINC_10PLUS >= q3].REND_MENSAL_TRAB_PRINC_10PLUS\n",
    "        g2H = homens[(homens.REND_MENSAL_TRAB_PRINC_10PLUS >= q2) & (homens.REND_MENSAL_TRAB_PRINC_10PLUS < q3)].REND_MENSAL_TRAB_PRINC_10PLUS\n",
    "        g3H = homens[(homens.REND_MENSAL_TRAB_PRINC_10PLUS >= q1) & (homens.REND_MENSAL_TRAB_PRINC_10PLUS < q2)].REND_MENSAL_TRAB_PRINC_10PLUS\n",
    "        g4H = homens[homens.REND_MENSAL_TRAB_PRINC_10PLUS < q1].REND_MENSAL_TRAB_PRINC_10PLUS\n",
    "        \n",
    "    else:\n",
    "        \n",
    "        g1M = mulheres[mulheres.REND_MENSAL_TRAB_PRINC_10PLUS >= q3].REND_MENSAL_TRAB_PRINC_10PLUS\n",
    "        g2M = mulheres[(mulheres.REND_MENSAL_TRAB_PRINC_10PLUS >= q2) & (mulheres.REND_MENSAL_TRAB_PRINC_10PLUS < q3)].REND_MENSAL_TRAB_PRINC_10PLUS\n",
    "        g3M = mulheres[(mulheres.REND_MENSAL_TRAB_PRINC_10PLUS >= q1) & (mulheres.REND_MENSAL_TRAB_PRINC_10PLUS < q2)].REND_MENSAL_TRAB_PRINC_10PLUS\n",
    "        g4M = mulheres[mulheres.REND_MENSAL_TRAB_PRINC_10PLUS < q1].REND_MENSAL_TRAB_PRINC_10PLUS"
   ]
  },
  {
   "cell_type": "code",
   "execution_count": 343,
   "metadata": {
    "collapsed": false
   },
   "outputs": [],
   "source": [
    "# obtendo a renda média de cada uma das faixas salariais para cada um dos sexos\n",
    "\n",
    "# INDEX: [[g1H, g1M], [g2H,g2M], [g3H, g3M], [g4H, g4M]]\n",
    "\n",
    "homensXMulheresSal = [[len(g1H), len(g1M)], [len(g2H), len(g2M)], [len(g3H), len(g3M)], [len(g4H), len(g4M)]]"
   ]
  },
  {
   "cell_type": "code",
   "execution_count": 344,
   "metadata": {
    "collapsed": false
   },
   "outputs": [
    {
     "data": {
      "text/plain": [
       "<matplotlib.text.Text at 0x10ed93b00>"
      ]
     },
     "execution_count": 344,
     "metadata": {},
     "output_type": "execute_result"
    },
    {
     "data": {
      "image/png": "[encoded data removed]",
      "text/plain": [
       "<matplotlib.figure.Figure at 0x10f50acf8>"
      ]
     },
     "metadata": {},
     "output_type": "display_data"
    }
   ],
   "source": [
    "# plotando o gráfico conclusivo da ANÁLISE 4\n",
    "\n",
    "dataForGraph4 = pd.DataFrame(homensXMulheresSal, columns=[\"Homem\", \"Mulher\"], index=[\"G1\", \"G2\", \"G3\", \"G4\"])\n",
    "plot4 = dataForGraph4.plot(kind='bar')\n",
    "plot4.set_ylabel(\"Número de indivíduos\")\n",
    "plot4.set_xlabel(\"Faixas Salariais\")"
   ]
  },
  {
   "cell_type": "markdown",
   "metadata": {},
   "source": [
    "#ANÁLISE 5\n",
    "\n",
    "**PARÂMETRO A SER ANALISADO:** Porcentagem sobre o número total de indivíduos\n",
    "\n",
    "**CRITÉRIO DE SELEÇÃO:** Nível do rendimento mensal ou \"Faixas Salariais\""
   ]
  },
  {
   "cell_type": "code",
   "execution_count": 345,
   "metadata": {
    "collapsed": false
   },
   "outputs": [],
   "source": [
    "dados = dados.sort([\"REND_MENSAL_TRAB_PRINC_10PLUS\"])"
   ]
  },
  {
   "cell_type": "code",
   "execution_count": 354,
   "metadata": {
    "collapsed": false
   },
   "outputs": [],
   "source": [
    "gHomens = []\n",
    "gMulheres = []\n",
    "\n",
    "for e in homensXMulheresSal:\n",
    "    \n",
    "    gHomens.append(e[0])\n",
    "    gMulheres.append(e[1])"
   ]
  },
  {
   "cell_type": "code",
   "execution_count": 364,
   "metadata": {
    "collapsed": false
   },
   "outputs": [
    {
     "data": {
      "image/png": "[encoded data removed]",
      "text/plain": [
       "<matplotlib.figure.Figure at 0x11237ff28>"
      ]
     },
     "metadata": {},
     "output_type": "display_data"
    }
   ],
   "source": [
    "# plotando os gráfico da análise 5\n",
    "\n",
    "dataForGraph5 = pd.Series(gHomens, index=[\"G1\", \"G2\", \"G3\", \"G4\"])\n",
    "plot5 = dataForGraph5.plot(kind='pie', autopct='%.2f')"
   ]
  },
  {
   "cell_type": "code",
   "execution_count": 363,
   "metadata": {
    "collapsed": false
   },
   "outputs": [
    {
     "data": {
      "image/png": "[encoded data removed]",
      "text/plain": [
       "<matplotlib.figure.Figure at 0x110f0f898>"
      ]
     },
     "metadata": {},
     "output_type": "display_data"
    }
   ],
   "source": [
    "dataForGraph5 = pd.Series(gMulheres, index=[\"G1\", \"G2\", \"G3\", \"G4\"])\n",
    "plot5 = dataForGraph5.plot(kind='pie', autopct='%.2f')"
   ]
  },
  {
   "cell_type": "code",
   "execution_count": null,
   "metadata": {
    "collapsed": true
   },
   "outputs": [],
   "source": []
  }
 ],
 "metadata": {
  "kernelspec": {
   "display_name": "Python 3",
   "language": "python",
   "name": "python3"
  },
  "language_info": {
   "codemirror_mode": {
    "name": "ipython",
    "version": 3
   },
   "file_extension": ".py",
   "mimetype": "text/x-python",
   "name": "python",
   "nbconvert_exporter": "python",
   "pygments_lexer": "ipython3",
   "version": "3.4.3"
  }
 },
 "nbformat": 4,
 "nbformat_minor": 0
}

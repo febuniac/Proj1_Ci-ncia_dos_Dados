{
 "cells": [
  {
   "cell_type": "code",
   "execution_count": null,
   "metadata": {
    "collapsed": true
   },
   "outputs": [],
   "source": [
    "import pandas as pd\n",
    "import matplotlib.pyplot as plt\n",
    "import math\n",
    "\n",
    "%matplotlib inline"
   ]
  },
  {
   "cell_type": "code",
   "execution_count": null,
   "metadata": {
    "collapsed": false
   },
   "outputs": [],
   "source": [
    "dados = pd.read_table(\"pes2013P1.csv\", sep = \",\")\n",
    "lista = [\"UF\", \"SEXO\", \"IDADE\", \"COND_FAM\", \"COR\", \"TRABALHOU_REF_WEEK\", \"N_TRAB_REF_WEEK\", \"POSIÇÃO_REF_WEEK\", \"SETOR_REF_WEEK\", \"CARTEIRA_ASS_REF_WEKK\", \"ANOS_DE_TRAB_REF_DATE\", \"ANOS_DE_ESTUDO\", \"HORAS_DE_TRAB_10PLUS_REF_WEEK\", \"INSTRUC_PLUS_ALCANÇADA\", \"REND_MENSAL_TRAB_PRINC_10PLUS\"]"
   ]
  },
  {
   "cell_type": "code",
   "execution_count": null,
   "metadata": {
    "collapsed": false
   },
   "outputs": [],
   "source": [
    "dados = dados[(dados.V9042 == 2)&(dados.V9005 == 1)&(dados.V0402 == 1)&(dados.V8005 > 15)&(dados.V4718 < 99999999999)] # carteira ass, pessoa de ref, 1 emprego"
   ]
  },
  {
   "cell_type": "code",
   "execution_count": null,
   "metadata": {
    "collapsed": false
   },
   "outputs": [],
   "source": [
    "columns = {}\n",
    "i = 0\n",
    "for c in dados.columns:\n",
    "    \n",
    "    columns[c] = lista[i]\n",
    "    i+=1"
   ]
  },
  {
   "cell_type": "code",
   "execution_count": null,
   "metadata": {
    "collapsed": false
   },
   "outputs": [],
   "source": [
    "dados.rename(columns=columns, inplace=True)"
   ]
  },
  {
   "cell_type": "code",
   "execution_count": null,
   "metadata": {
    "collapsed": false
   },
   "outputs": [],
   "source": [
    "homens = dados[dados.SEXO == 2]\n",
    "mulheres = dados[dados.SEXO == 4]"
   ]
  },
  {
   "cell_type": "code",
   "execution_count": null,
   "metadata": {
    "collapsed": false
   },
   "outputs": [],
   "source": [
    "homensB = homens[homens.COR == 2]\n",
    "homensP = homens[(homens.COR == 4) | (homens.COR == 8)]"
   ]
  },
  {
   "cell_type": "code",
   "execution_count": null,
   "metadata": {
    "collapsed": false
   },
   "outputs": [],
   "source": [
    "mulheresB = mulheres[mulheres.COR == 2]\n",
    "mulheresP = mulheres[(mulheres.COR == 4) | (mulheres.COR == 8)]\n",
    "mulheresP"
   ]
  },
  {
   "cell_type": "code",
   "execution_count": null,
   "metadata": {
    "collapsed": false
   },
   "outputs": [],
   "source": [
    "rendMedioMB = mulheresB.REND_MENSAL_TRAB_PRINC_10PLUS.mean()\n",
    "rendMedioHB = homensB.REND_MENSAL_TRAB_PRINC_10PLUS.mean()\n",
    "rendMedioMB"
   ]
  },
  {
   "cell_type": "code",
   "execution_count": null,
   "metadata": {
    "collapsed": false
   },
   "outputs": [],
   "source": [
    "rendMedioHB"
   ]
  },
  {
   "cell_type": "code",
   "execution_count": null,
   "metadata": {
    "collapsed": false
   },
   "outputs": [],
   "source": [
    "#graf = mulheresB.plot(kind=\"bar\")\n",
    "#homensB.plot(kind=\"bar\", ax=graf)"
   ]
  },
  {
   "cell_type": "code",
   "execution_count": null,
   "metadata": {
    "collapsed": true
   },
   "outputs": [],
   "source": []
  }
 ],
 "metadata": {
  "kernelspec": {
   "display_name": "Python 3",
   "language": "python",
   "name": "python3"
  },
  "language_info": {
   "codemirror_mode": {
    "name": "ipython",
    "version": 3
   },
   "file_extension": ".py",
   "mimetype": "text/x-python",
   "name": "python",
   "nbconvert_exporter": "python",
   "pygments_lexer": "ipython3",
   "version": "3.4.3"
  }
 },
 "nbformat": 4,
 "nbformat_minor": 0
}
